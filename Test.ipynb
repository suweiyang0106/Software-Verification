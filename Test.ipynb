{
 "cells": [
  {
   "cell_type": "code",
   "execution_count": 1,
   "id": "441739e0",
   "metadata": {},
   "outputs": [],
   "source": [
    "interp.repositories() ++= Seq(\n",
    "  coursierapi.MavenRepository.of(\"https://oss.sonatype.org/content/repositories/snapshots\")\n",
    ")\n",
    "\n"
   ]
  },
  {
   "cell_type": "code",
   "execution_count": 2,
   "id": "6dbb5a60",
   "metadata": {},
   "outputs": [
    {
     "data": {
      "text/plain": [
       "\u001b[32mimport \u001b[39m\u001b[36m$ivy.$                                      \n",
       "\u001b[39m\n",
       "\u001b[32mimport \u001b[39m\u001b[36m$ivy.$                                         \u001b[39m"
      ]
     },
     "execution_count": 2,
     "metadata": {},
     "output_type": "execute_result"
    }
   ],
   "source": [
    "import $ivy.`edu.berkeley.cs::chisel3:3.5-SNAPSHOT`\n",
    "import $ivy.`edu.berkeley.cs::chiseltest:0.5-SNAPSHOT`"
   ]
  },
  {
   "cell_type": "code",
   "execution_count": 3,
   "id": "971d0ed3",
   "metadata": {},
   "outputs": [
    {
     "data": {
      "text/plain": [
       "\u001b[32mimport \u001b[39m\u001b[36mchisel3._\n",
       "\u001b[39m\n",
       "\u001b[32mimport \u001b[39m\u001b[36mchisel3.stage._\n",
       "\u001b[39m\n",
       "\u001b[32mimport \u001b[39m\u001b[36mfirrtl.options.Dependency\n",
       "\u001b[39m\n",
       "\u001b[32mimport \u001b[39m\u001b[36mfirrtl.stage.RunFirrtlTransformAnnotation\n",
       "\u001b[39m\n",
       "\u001b[32mimport \u001b[39m\u001b[36mchisel3.experimental.AffectsChiselPrefix\n",
       "\u001b[39m\n",
       "\u001b[32mimport \u001b[39m\u001b[36mchisel3.util._\n",
       "\n",
       "\n",
       "\u001b[39m"
      ]
     },
     "execution_count": 3,
     "metadata": {},
     "output_type": "execute_result"
    }
   ],
   "source": [
    "import chisel3._\n",
    "import chisel3.stage._\n",
    "import firrtl.options.Dependency\n",
    "import firrtl.stage.RunFirrtlTransformAnnotation\n",
    "import chisel3.experimental.AffectsChiselPrefix\n",
    "import chisel3.util._\n",
    "\n",
    "\n"
   ]
  },
  {
   "cell_type": "code",
   "execution_count": 4,
   "id": "84626269",
   "metadata": {},
   "outputs": [
    {
     "data": {
      "text/plain": [
       "defined \u001b[32mclass\u001b[39m \u001b[36mKeepMax\u001b[39m"
      ]
     },
     "execution_count": 4,
     "metadata": {},
     "output_type": "execute_result"
    }
   ],
   "source": [
    "class KeepMax(width: Int) extends Module {\n",
    "  val in = IO(Input(UInt(width.W)))\n",
    "  val out = IO(Output(UInt(width.W)))\n",
    "\n",
    "  val max = RegInit(0.U(width.W))\n",
    "  when (in > max) {\n",
    "    max := in\n",
    "  }\n",
    "  out := max\n",
    "    \n",
    "  // get the value of io.out from 1 cycle in the past\n",
    "  val firstCycle = RegInit(true.B)\n",
    "  firstCycle := false.B\n",
    "  when(!firstCycle) {\n",
    "    assert(out >= RegNext(out))\n",
    "  }\n",
    "}"
   ]
  },
  {
   "cell_type": "code",
   "execution_count": 5,
   "id": "c6b4baf9",
   "metadata": {},
   "outputs": [
    {
     "data": {
      "text/plain": [
       "\u001b[36mcompiler\u001b[39m: \u001b[32mChiselStage\u001b[39m = chisel3.stage.ChiselStage@5f66a26c\n",
       "\u001b[36mgenKeepMax\u001b[39m: \u001b[32mChiselGeneratorAnnotation\u001b[39m = \u001b[33mChiselGeneratorAnnotation\u001b[39m(\n",
       "  gen = ammonite.$sess.cmd4$Helper$$Lambda$2826/0x00000008018e9bc8@3d305376\n",
       ")"
      ]
     },
     "execution_count": 5,
     "metadata": {},
     "output_type": "execute_result"
    }
   ],
   "source": [
    "val compiler = new ChiselStage\n",
    "val genKeepMax = ChiselGeneratorAnnotation(() => new KeepMax(8))"
   ]
  },
  {
   "cell_type": "code",
   "execution_count": 6,
   "id": "c4271c6c",
   "metadata": {},
   "outputs": [
    {
     "data": {
      "text/plain": [
       "\u001b[36mres5\u001b[39m: \u001b[32mfirrtl\u001b[39m.\u001b[32mAnnotationSeq\u001b[39m = firrtl.AnnotationSeq@35c2fce"
      ]
     },
     "execution_count": 6,
     "metadata": {},
     "output_type": "execute_result"
    }
   ],
   "source": [
    "// compile to optimized low firrtl\n",
    "compiler.execute(Array(\"-E\", \"low-opt\"), Seq(genKeepMax))\n"
   ]
  },
  {
   "cell_type": "code",
   "execution_count": null,
   "id": "fea25276",
   "metadata": {},
   "outputs": [],
   "source": []
  },
  {
   "cell_type": "code",
   "execution_count": 4,
   "id": "54827f5e",
   "metadata": {},
   "outputs": [
    {
     "data": {
      "text/plain": [
       "defined \u001b[32mfunction\u001b[39m \u001b[36mtest\u001b[39m"
      ]
     },
     "execution_count": 4,
     "metadata": {},
     "output_type": "execute_result"
    }
   ],
   "source": [
    "def test[A](testedThing: A)(testBody: A => Unit): Unit = testBody(testedThing)"
   ]
  },
  {
   "cell_type": "code",
   "execution_count": 5,
   "id": "d8aa1db5",
   "metadata": {},
   "outputs": [
    {
     "name": "stdout",
     "output_type": "stream",
     "text": [
      "test\n",
      "Failure\n"
     ]
    }
   ],
   "source": [
    "test(\"foo\"){ x => \n",
    "  println(\"test\")\n",
    "} // Success\n",
    "\n",
    "test(\"bar\"){ x => \n",
    "  if (x == \"baz\")\n",
    "    println(\"Success\")\n",
    "  else\n",
    "    println(\"Failure\")\n",
    "} // Failure"
   ]
  },
  {
   "cell_type": "code",
   "execution_count": null,
   "id": "37c37ac1",
   "metadata": {},
   "outputs": [],
   "source": [
    "\n"
   ]
  },
  {
   "cell_type": "code",
   "execution_count": 4,
   "id": "5cdfb985",
   "metadata": {},
   "outputs": [
    {
     "data": {
      "text/plain": [
       "defined \u001b[32mclass\u001b[39m \u001b[36mRingCount\u001b[39m"
      ]
     },
     "execution_count": 4,
     "metadata": {},
     "output_type": "execute_result"
    }
   ],
   "source": [
    "class RingCount (width: Int) extends Module {\n",
    "  val countOn = true.B\n",
    "  /*val in = IO(Input(UInt(width.W)))\n",
    "  val out = IO(Output(UInt(width.W)))\n",
    "\n",
    "  val max = RegInit(0.U(width.W))\n",
    "  when (in > max) {\n",
    "    max := in\n",
    "  }\n",
    "  out := max\n",
    "    \n",
    "  // get the value of io.out from 1 cycle in the past\n",
    "  val firstCycle = RegInit(true.B)\n",
    "  firstCycle := false.B\n",
    "  when(!firstCycle) {\n",
    "    assert(out >= RegNext(out))\n",
    "  }*/\n",
    "}"
   ]
  },
  {
   "cell_type": "code",
   "execution_count": null,
   "id": "d3820906",
   "metadata": {},
   "outputs": [],
   "source": []
  },
  {
   "cell_type": "code",
   "execution_count": 189,
   "id": "685176ca",
   "metadata": {
    "scrolled": false
   },
   "outputs": [
    {
     "data": {
      "text/plain": [
       "defined \u001b[32mclass\u001b[39m \u001b[36mTest\u001b[39m"
      ]
     },
     "execution_count": 189,
     "metadata": {},
     "output_type": "execute_result"
    }
   ],
   "source": [
    "class Test(width: Int) extends Module {\n",
    "    \n",
    "    //val in = IO(Input(UInt(width.W)))\n",
    "    //val max = RegInit(0.U(width.W))\n",
    "    val vec = VecInit(true.B, false.B, false.B, false.B)\n",
    "    printf(cf\"vec = $vec\") // Vec(1, 0, 0, 0)\n",
    "    val countOn = true.B // increment counter every clock cycle    \n",
    "    val (counterValue, counterWrap) = Counter(countOn, 4)    \n",
    "    //printf(cf\"counterValue = $counterValue\")\n",
    "    when (counterValue === 1.U) {\n",
    "        vec(0) := true.B\n",
    "        vec(1) := false.B\n",
    "        vec(2) := false.B\n",
    "        vec(3) := false.B  \n",
    "    }. elsewhen ( counterValue === 2.U ) {\n",
    "        vec(0) := false.B\n",
    "        vec(1) := true.B\n",
    "        vec(2) := false.B\n",
    "        vec(3) := false.B\n",
    "    }. elsewhen ( counterValue === 3.U ) {\n",
    "        vec(0) := false.B\n",
    "        vec(1) := false.B\n",
    "        vec(2) := true.B\n",
    "        vec(3) := false.B\n",
    "    }. elsewhen ( counterValue === 4.U ) {\n",
    "        vec(0) := false.B\n",
    "        vec(1) := false.B\n",
    "        vec(2) := false.B\n",
    "        vec(3) := true.B\n",
    "    }\n",
    "    \n",
    "  // get the value of io.out from 1 cycle in the past\n",
    "  //val firstCycle = RegInit(true.B)\n",
    "  //firstCycle := false.B\n",
    "  when(true.B) {\n",
    "      // Test\n",
    "      assert((vec(0)^vec(1)^vec(2)^vec(3)) === true.B)\n",
    "      assert(vec(0) != false.B && vec(1) != false.B && vec(2) != false.B && vec(3) != false.B )\n",
    "      assert(vec(0) != true.B && vec(1) != true.B && vec(2) != false.B && vec(3) != false.B )\n",
    "      assert(vec(0) != true.B && vec(1) != true.B && vec(2) != true.B && vec(3) != false.B )\n",
    "      assert(vec(0) != true.B && vec(1) != true.B && vec(2) != true.B && vec(3) != true.B )\n",
    "      assert(vec(0) != false.B && vec(1) != true.B && vec(2) != true.B && vec(3) != true.B )\n",
    "      assert(vec(0) != false.B && vec(1) != false.B && vec(2) != true.B && vec(3) != true.B )\n",
    "      assert(vec(0) != false.B && vec(1) != true.B && vec(2) != true.B && vec(3) != false.B )\n",
    "      assert(vec(0) != false.B && vec(1) != true.B && vec(2) != false.B && vec(3) != true.B )\n",
    "      assert(vec(0) != true.B && vec(1) != false.B && vec(2) != true.B && vec(3) != false.B )\n",
    "  }  \n",
    "\n",
    "    \n",
    "/*  \n",
    "  //exampel from the github\n",
    "  val in = IO(Input(UInt(width.W)))\n",
    "  val out = IO(Output(UInt(width.W)))\n",
    "\n",
    "  val max = RegInit(0.U(width.W))\n",
    "  when (in > max) {\n",
    "    max := in\n",
    "    \n",
    "  }\n",
    "  out := max\n",
    "    \n",
    "  // get the value of io.out from 1 cycle in the past\n",
    "  val firstCycle = RegInit(true.B)\n",
    "  firstCycle := false.B\n",
    "  when(!firstCycle) {\n",
    "    assert(out >= RegNext(out))\n",
    "  }\n",
    "*/\n",
    "}"
   ]
  },
  {
   "cell_type": "code",
   "execution_count": 190,
   "id": "529a45e0",
   "metadata": {},
   "outputs": [
    {
     "data": {
      "text/plain": [
       "\u001b[36mcompiler_test\u001b[39m: \u001b[32mChiselStage\u001b[39m = chisel3.stage.ChiselStage@2cbf8a2d\n",
       "\u001b[36mtest\u001b[39m: \u001b[32mChiselGeneratorAnnotation\u001b[39m = \u001b[33mChiselGeneratorAnnotation\u001b[39m(\n",
       "  gen = ammonite.$sess.cmd189$Helper$$Lambda$6350/0x0000000801d3e890@11bf771b\n",
       ")"
      ]
     },
     "execution_count": 190,
     "metadata": {},
     "output_type": "execute_result"
    }
   ],
   "source": [
    "val compiler_test = new ChiselStage\n",
    "val test = ChiselGeneratorAnnotation(() => new Test(8))"
   ]
  },
  {
   "cell_type": "code",
   "execution_count": 191,
   "id": "7f6d62d5",
   "metadata": {},
   "outputs": [
    {
     "data": {
      "text/plain": [
       "\u001b[36mres190\u001b[39m: \u001b[32mfirrtl\u001b[39m.\u001b[32mAnnotationSeq\u001b[39m = firrtl.AnnotationSeq@34e7bebf"
      ]
     },
     "execution_count": 191,
     "metadata": {},
     "output_type": "execute_result"
    }
   ],
   "source": [
    "// compile to optimized low firrtl\n",
    "compiler_test.execute(Array(\"-E\", \"low-opt\"), Seq(test))"
   ]
  },
  {
   "cell_type": "code",
   "execution_count": null,
   "id": "00fc9689",
   "metadata": {},
   "outputs": [],
   "source": []
  },
  {
   "cell_type": "code",
   "execution_count": 4,
   "id": "8812524d",
   "metadata": {},
   "outputs": [
    {
     "data": {
      "text/plain": [
       "\u001b[32mimport \u001b[39m\u001b[36mchiseltest ._\n",
       "\u001b[39m\n",
       "\u001b[32mimport \u001b[39m\u001b[36morg. scalatest . flatspec. AnyFlatSpec\u001b[39m"
      ]
     },
     "execution_count": 4,
     "metadata": {},
     "output_type": "execute_result"
    }
   ],
   "source": [
    "import chiseltest ._\n",
    "import org. scalatest . flatspec. AnyFlatSpec"
   ]
  },
  {
   "cell_type": "code",
   "execution_count": 24,
   "id": "1913a27d",
   "metadata": {},
   "outputs": [
    {
     "data": {
      "text/plain": [
       "defined \u001b[32mclass\u001b[39m \u001b[36mArithmetic_unit\u001b[39m"
      ]
     },
     "execution_count": 24,
     "metadata": {},
     "output_type": "execute_result"
    }
   ],
   "source": [
    "class Arithmetic_unit(width: Int) extends Module {\n",
    "\n",
    "    val cntReg = RegInit(0.U(8.W))\n",
    "    val acc = RegInit(true.B)\n",
    "    //val data = RegInit(4.U(8.W))\n",
    "    //val address = RegInit(0.U(8.W))\n",
    "    //acc := false.B\n",
    "    cntReg := cntReg + 1.U \n",
    "    when(cntReg > 5.U)\n",
    "    {\n",
    "        acc := false.B\n",
    "        assert(false.B === false.B)\n",
    "    }\n",
    "    assert(cntReg < 10.U)\n",
    "    //when(true.B) {        \n",
    "    //    assert(acc === true.B)\n",
    "     //   assert(cntReg < 10.U)\n",
    "    //}\n",
    "}"
   ]
  },
  {
   "cell_type": "code",
   "execution_count": 25,
   "id": "bcf561b2",
   "metadata": {},
   "outputs": [
    {
     "data": {
      "text/plain": [
       "\u001b[36mcompiler_arithmetic\u001b[39m: \u001b[32mChiselStage\u001b[39m = chisel3.stage.ChiselStage@1c32c5ff\n",
       "\u001b[36mArithmetic\u001b[39m: \u001b[32mChiselGeneratorAnnotation\u001b[39m = \u001b[33mChiselGeneratorAnnotation\u001b[39m(\n",
       "  gen = ammonite.$sess.cmd24$Helper$$Lambda$4202/0x0000000801bf2550@1035ac99\n",
       ")"
      ]
     },
     "execution_count": 25,
     "metadata": {},
     "output_type": "execute_result"
    }
   ],
   "source": []
  },
  {
   "cell_type": "code",
   "execution_count": 26,
   "id": "f58cdc2b",
   "metadata": {},
   "outputs": [
    {
     "data": {
      "text/plain": [
       "\u001b[36mres25\u001b[39m: \u001b[32mfirrtl\u001b[39m.\u001b[32mAnnotationSeq\u001b[39m = firrtl.AnnotationSeq@4bed3a21"
      ]
     },
     "execution_count": 26,
     "metadata": {},
     "output_type": "execute_result"
    }
   ],
   "source": []
  },
  {
   "cell_type": "code",
   "execution_count": null,
   "id": "bf672061",
   "metadata": {},
   "outputs": [],
   "source": []
  },
  {
   "cell_type": "code",
   "execution_count": 136,
   "id": "0e269fe1",
   "metadata": {},
   "outputs": [
    {
     "data": {
      "text/plain": [
       "\u001b[32mimport \u001b[39m\u001b[36mchisel3._\n",
       "\n",
       "\u001b[39m\n",
       "defined \u001b[32mclass\u001b[39m \u001b[36mArithmetic_unit\u001b[39m"
      ]
     },
     "execution_count": 136,
     "metadata": {},
     "output_type": "execute_result"
    }
   ],
   "source": [
    "import chisel3._\n",
    "\n",
    "class Arithmetic_unit extends Module {\n",
    "  //counter\n",
    "  val cntReg = RegInit(0.U(8.W))  \n",
    "    \n",
    "  //write control\n",
    "  val write_enable = 0x0.U \n",
    "  //write control\n",
    "  val read_enable = 0x1.U \n",
    "    \n",
    "  //address control(input)\n",
    "  val addr_enable = 0x7.U \n",
    "  val addr = VecInit(addr_enable.asBools)\n",
    "  val addr_content = addr.asUInt\n",
    " \n",
    "  //acc control(input)\n",
    "  val acc_value = 0x1.U//use 0 and 1 first\n",
    "  val acc = VecInit(acc_value.asBools)\n",
    "  val acc_content = acc.asUInt\n",
    "  printf(cf\"acc_content input = $acc_content\")\n",
    "  //assert(acc_content === 0xf.U)\n",
    "    \n",
    "  //data control(input)\n",
    "  val data_value = 0x0.U//use 0 and 1 first\n",
    "  val data = VecInit(data_value.asBools)\n",
    "  val data_content = data.asUInt\n",
    "  printf(cf\"1. data_value input = $data_value\")\n",
    "  //assert(data_content === 0x1.U)\n",
    "    \n",
    "  //acc control (output)\n",
    "  when(cntReg === 1.U)\n",
    "  {\n",
    "      //Start write operation\n",
    "      when(write_enable === 0x1.U && addr_content === 0x0.U)\n",
    "      {\n",
    "          val acc_value_output = data_content\n",
    "          printf(cf\"addr 0x00 acc_value_output = $acc_value_output\")\n",
    "          assert(acc_value_output === data_content)          \n",
    "      }\n",
    "      . elsewhen (write_enable === 0x1.U && addr_content === 0x1.U )\n",
    "      {//need to improve (acc - data)\n",
    "          val acc_value_output = acc_content | data_content\n",
    "          printf(cf\"addr 0x01  acc_value_output = $acc_value_output\")\n",
    "          assert(acc_value_output === 0x1.U)  \n",
    "      }\n",
    "      . elsewhen (write_enable === 0x1.U && addr_content === 0x2.U )\n",
    "      {//need to improve (data - acc)\n",
    "          val acc_value_output = data_content | acc_content\n",
    "          printf(cf\"addr 0x02  acc_value_output = $acc_value_output\")\n",
    "          assert(acc_value_output === 0x1.U)  \n",
    "      }\n",
    "      . elsewhen (write_enable === 0x1.U && addr_content === 0x3.U )\n",
    "      {//need to improve (acc + data)\n",
    "          val acc_value_output = data_content ^ acc_content\n",
    "          printf(cf\"addr 0x03  acc_value_output = $acc_value_output\")\n",
    "          assert(acc_value_output === 0x1.U)  \n",
    "      }\n",
    "      . elsewhen (write_enable === 0x1.U && addr_content === 0x4.U )\n",
    "      {//need to improve (acc ^ data)\n",
    "          val acc_value_output = data_content ^ acc_content\n",
    "          printf(cf\"addr 0x04  acc_value_output = $acc_value_output\")\n",
    "          assert(acc_value_output === 0x1.U)  \n",
    "      }\n",
    "      . elsewhen (write_enable === 0x1.U && addr_content === 0x5.U )\n",
    "      {//need to improve (acc & data)\n",
    "          val acc_value_output = data_content & acc_content\n",
    "          printf(cf\"addr 0x05  acc_value_output = $acc_value_output\")\n",
    "          assert(acc_value_output === 0x1.U)  \n",
    "      }\n",
    "      . elsewhen (write_enable === 0x1.U && addr_content === 0x6.U )\n",
    "      {//need to improve (acc | data)\n",
    "          val acc_value_output = data_content | acc_content\n",
    "          printf(cf\"addr 0x06  acc_value_output = $acc_value_output\")\n",
    "          assert(acc_value_output === 0x1.U)  \n",
    "      }\n",
    "      . elsewhen (write_enable === 0x1.U && addr_content === 0x7.U )\n",
    "      {//need to improve (acc ^ data)\n",
    "          val acc_value_output = data_content >> 1\n",
    "          printf(cf\"addr 0x07  acc_value_output = $acc_value_output\")\n",
    "          assert(acc_value_output === 0x0.U)  \n",
    "      }\n",
    "      \n",
    "      //Start read operation\n",
    "      when(read_enable === 0x1.U && addr_content === 0x0.U)\n",
    "      {//data = acc\n",
    "          val data_value_output = acc_content\n",
    "          printf(cf\"addr 0x00 data_value_output = $data_value_output\")\n",
    "          assert(data_value_output === acc_content)          \n",
    "      }\n",
    "      . elsewhen (read_enable === 0x1.U && addr_content === 0x1.U )\n",
    "      {//need to improve (data = N)\n",
    "          val data_value_output = 0x0.U\n",
    "          printf(cf\"addr 0x01  data_value_output = $data_value_output\")\n",
    "          assert(data_value_output === 0x0.U)  \n",
    "      }\n",
    "      . elsewhen (read_enable === 0x1.U && addr_content === 0x2.U )\n",
    "      {//need to improve (data = 0)\n",
    "          val data_value_output = 0x0.U\n",
    "          printf(cf\"addr 0x02  data_value_output = $data_value_output\")\n",
    "          assert(data_value_output === 0x0.U)  \n",
    "      }\n",
    "      . elsewhen (read_enable === 0x1.U && addr_content === 0x3.U )\n",
    "      {//need to improve (data = 0)\n",
    "          val data_value_output = 0x0.U\n",
    "          printf(cf\"addr 0x03  data_value_output = $data_value_output\")\n",
    "          assert(data_value_output === 0x0.U)  \n",
    "      }\n",
    "      . elsewhen (read_enable === 0x1.U && addr_content === 0x4.U )\n",
    "      {//need to improve (data = 0)\n",
    "          val data_value_output = 0x0.U\n",
    "          printf(cf\"addr 0x04  data_value_output = $data_value_output\")\n",
    "          assert(data_value_output === 0x0.U)  \n",
    "      }\n",
    "      . elsewhen (read_enable === 0x1.U && addr_content === 0x5.U )\n",
    "      {//need to improve (data = N ^ O)\n",
    "          val data_value_output = 0x1.U << 0x1.U\n",
    "          printf(cf\"addr 0x05  data_value_output = $data_value_output\")\n",
    "          assert(data_value_output === 0x2.U)  \n",
    "      }\n",
    "      . elsewhen (read_enable === 0x1.U && addr_content === 0x6.U )\n",
    "      {//need to improve (data = N ^ O)\n",
    "          val data_value_output = 0x1.U << 0x1.U\n",
    "          printf(cf\"addr 0x06  data_value_output = $data_value_output\")\n",
    "          assert(data_value_output === 0x2.U)  \n",
    "      }\n",
    "      . elsewhen (read_enable === 0x1.U && addr_content === 0x7.U )\n",
    "      {//need to improve (data = O ^ not(Z))\n",
    "          val data_value_output = 0x1.U ^ 0x1.U\n",
    "          printf(cf\"addr 0x07  data_value_output = $data_value_output\")\n",
    "          assert(data_value_output === 0x0.U)  \n",
    "      }\n",
    "  }\n",
    "  cntReg := cntReg + 1.U  \n",
    "  assert(cntReg < 10.U)\n",
    "\n",
    "}"
   ]
  },
  {
   "cell_type": "code",
   "execution_count": 137,
   "id": "9a761b12",
   "metadata": {},
   "outputs": [
    {
     "data": {
      "text/plain": [
       "\u001b[36mcompiler_test\u001b[39m: \u001b[32mChiselStage\u001b[39m = chisel3.stage.ChiselStage@340dfb4c\n",
       "\u001b[36mtest\u001b[39m: \u001b[32mChiselGeneratorAnnotation\u001b[39m = \u001b[33mChiselGeneratorAnnotation\u001b[39m(\n",
       "  gen = ammonite.$sess.cmd136$Helper$$Lambda$4748/0x0000000801be1900@4fee5b30\n",
       ")"
      ]
     },
     "execution_count": 137,
     "metadata": {},
     "output_type": "execute_result"
    }
   ],
   "source": [
    "val compiler_test = new ChiselStage\n",
    "val test = ChiselGeneratorAnnotation(() => new Arithmetic_unit())"
   ]
  },
  {
   "cell_type": "code",
   "execution_count": 138,
   "id": "9c342095",
   "metadata": {},
   "outputs": [
    {
     "data": {
      "text/plain": [
       "\u001b[36mres137\u001b[39m: \u001b[32mfirrtl\u001b[39m.\u001b[32mAnnotationSeq\u001b[39m = firrtl.AnnotationSeq@1877d90e"
      ]
     },
     "execution_count": 138,
     "metadata": {},
     "output_type": "execute_result"
    }
   ],
   "source": [
    "// compile to optimized low firrtl\n",
    "compiler_test.execute(Array(\"-E\", \"low-opt\"), Seq(test))"
   ]
  },
  {
   "cell_type": "code",
   "execution_count": null,
   "id": "e71ce4c8",
   "metadata": {},
   "outputs": [],
   "source": []
  }
 ],
 "metadata": {
  "kernelspec": {
   "display_name": "Scala",
   "language": "scala",
   "name": "scala"
  },
  "language_info": {
   "codemirror_mode": "text/x-scala",
   "file_extension": ".sc",
   "mimetype": "text/x-scala",
   "name": "scala",
   "nbconvert_exporter": "script",
   "version": "2.13.10"
  }
 },
 "nbformat": 4,
 "nbformat_minor": 5
}
